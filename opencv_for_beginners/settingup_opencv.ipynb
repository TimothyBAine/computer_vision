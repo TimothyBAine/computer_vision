{
 "cells": [
  {
   "cell_type": "markdown",
   "id": "c5093b38",
   "metadata": {},
   "source": [
    "## Installing opencv"
   ]
  },
  {
   "cell_type": "code",
   "execution_count": 3,
   "id": "14c5a3c6",
   "metadata": {},
   "outputs": [
    {
     "name": "stdout",
     "output_type": "stream",
     "text": [
      "Requirement already satisfied: opencv-python in c:\\users\\ainet\\appdata\\local\\programs\\python\\python310\\lib\\site-packages (4.6.0.66)\n",
      "Requirement already satisfied: numpy>=1.21.2 in c:\\users\\ainet\\appdata\\local\\programs\\python\\python310\\lib\\site-packages (from opencv-python) (1.23.1)\n"
     ]
    },
    {
     "name": "stderr",
     "output_type": "stream",
     "text": [
      "WARNING: Ignoring invalid distribution -treamlit (c:\\users\\ainet\\appdata\\local\\programs\\python\\python310\\lib\\site-packages)\n",
      "WARNING: Ignoring invalid distribution -treamlit (c:\\users\\ainet\\appdata\\local\\programs\\python\\python310\\lib\\site-packages)\n",
      "WARNING: Ignoring invalid distribution -treamlit (c:\\users\\ainet\\appdata\\local\\programs\\python\\python310\\lib\\site-packages)\n",
      "WARNING: Ignoring invalid distribution -treamlit (c:\\users\\ainet\\appdata\\local\\programs\\python\\python310\\lib\\site-packages)\n",
      "WARNING: Ignoring invalid distribution -treamlit (c:\\users\\ainet\\appdata\\local\\programs\\python\\python310\\lib\\site-packages)\n",
      "WARNING: Ignoring invalid distribution -treamlit (c:\\users\\ainet\\appdata\\local\\programs\\python\\python310\\lib\\site-packages)\n"
     ]
    }
   ],
   "source": [
    "!pip install opencv-python"
   ]
  },
  {
   "cell_type": "code",
   "execution_count": 4,
   "id": "18599c39",
   "metadata": {
    "collapsed": true
   },
   "outputs": [
    {
     "name": "stdout",
     "output_type": "stream",
     "text": [
      "Package                      Version\n",
      "---------------------------- ---------------\n",
      "absl-py                      1.2.0\n",
      "altair                       4.2.0\n",
      "altgraph                     0.17.2\n",
      "appdirs                      1.4.4\n",
      "argon2-cffi                  21.3.0\n",
      "argon2-cffi-bindings         21.2.0\n",
      "asttokens                    2.0.5\n",
      "astunparse                   1.6.3\n",
      "async-generator              1.10\n",
      "attrs                        21.4.0\n",
      "backcall                     0.2.0\n",
      "beautifulsoup4               4.11.1\n",
      "bleach                       5.0.1\n",
      "blinker                      1.5\n",
      "bokeh                        2.4.3\n",
      "bs4                          0.0.1\n",
      "cachetools                   5.2.0\n",
      "certifi                      2022.6.15\n",
      "cffi                         1.15.1\n",
      "charset-normalizer           2.1.0\n",
      "chromedriver                 2.24.1\n",
      "chromedriver-binary          104.0.5112.29.0\n",
      "click                        8.1.3\n",
      "colorama                     0.4.5\n",
      "commonmark                   0.9.1\n",
      "cryptography                 37.0.4\n",
      "cycler                       0.11.0\n",
      "debugpy                      1.6.2\n",
      "decorator                    5.1.1\n",
      "defusedxml                   0.7.1\n",
      "entrypoints                  0.4\n",
      "et-xmlfile                   1.1.0\n",
      "excel2json-3                 0.1.6\n",
      "executing                    0.8.3\n",
      "fastjsonschema               2.16.1\n",
      "flatbuffers                  1.12\n",
      "fonttools                    4.34.4\n",
      "future                       0.18.2\n",
      "gast                         0.4.0\n",
      "gitdb                        4.0.9\n",
      "GitPython                    3.1.27\n",
      "google-auth                  2.9.1\n",
      "google-auth-oauthlib         0.4.6\n",
      "google-pasta                 0.2.0\n",
      "grpcio                       1.47.0\n",
      "h11                          0.13.0\n",
      "h5py                         3.7.0\n",
      "htmlmin                      0.1.12\n",
      "idna                         3.3\n",
      "ImageHash                    4.2.1\n",
      "importlib-metadata           4.12.0\n",
      "ipykernel                    6.15.1\n",
      "ipython                      8.4.0\n",
      "ipython-genutils             0.2.0\n",
      "ipywidgets                   7.7.1\n",
      "jedi                         0.18.1\n",
      "Jinja2                       3.1.2\n",
      "joblib                       1.1.0\n",
      "jsonschema                   4.7.2\n",
      "jupyter                      1.0.0\n",
      "jupyter-client               7.3.4\n",
      "jupyter-console              6.4.4\n",
      "jupyter-core                 4.11.1\n",
      "jupyterlab-pygments          0.2.2\n",
      "jupyterlab-widgets           1.1.1\n",
      "keras                        2.9.0\n",
      "Keras-Preprocessing          1.1.2\n",
      "kiwisolver                   1.4.4\n",
      "klib                         1.0.1\n",
      "libclang                     14.0.6\n",
      "lxml                         4.9.1\n",
      "Markdown                     3.4.1\n",
      "MarkupSafe                   2.1.1\n",
      "matplotlib                   3.5.2\n",
      "matplotlib-inline            0.1.3\n",
      "missingno                    0.5.1\n",
      "mistune                      0.8.4\n",
      "multimethod                  1.8\n",
      "nbclient                     0.6.6\n",
      "nbconvert                    6.5.0\n",
      "nbformat                     5.4.0\n",
      "nest-asyncio                 1.5.5\n",
      "networkx                     2.8.6\n",
      "nltk                         3.7\n",
      "notebook                     6.4.12\n",
      "numpy                        1.23.1\n",
      "oauthlib                     3.2.0\n",
      "opencv-python                4.6.0.66\n",
      "openpyxl                     3.0.10\n",
      "opt-einsum                   3.3.0\n",
      "outcome                      1.2.0\n",
      "packaging                    21.3\n",
      "pandas                       1.4.3\n",
      "pandas-bokeh                 0.5.5\n",
      "pandas-profiling             3.2.0\n",
      "pandocfilters                1.5.0\n",
      "parso                        0.8.3\n",
      "pefile                       2022.5.30\n",
      "phik                         0.12.2\n",
      "pickleshare                  0.7.5\n",
      "Pillow                       9.2.0\n",
      "pip                          22.2.2\n",
      "plotly                       5.9.0\n",
      "prometheus-client            0.14.1\n",
      "prompt-toolkit               3.0.30\n",
      "protobuf                     3.19.4\n",
      "psutil                       5.9.1\n",
      "pure-eval                    0.2.2\n",
      "pyarrow                      8.0.0\n",
      "pyasn1                       0.4.8\n",
      "pyasn1-modules               0.2.8\n",
      "pycparser                    2.21\n",
      "pydantic                     1.9.2\n",
      "pydeck                       0.7.1\n",
      "Pygments                     2.12.0\n",
      "pyinstaller                  5.3\n",
      "pyinstaller-hooks-contrib    2022.8\n",
      "Pympler                      1.0.1\n",
      "pyOpenSSL                    22.0.0\n",
      "pyparsing                    3.0.9\n",
      "PyPDF2                       2.10.0\n",
      "pyrsistent                   0.18.1\n",
      "PySocks                      1.7.1\n",
      "python-dateutil              2.8.2\n",
      "python-dotenv                0.20.0\n",
      "pytz                         2022.1\n",
      "pytz-deprecation-shim        0.1.0.post0\n",
      "PyWavelets                   1.3.0\n",
      "pywin32                      304\n",
      "pywin32-ctypes               0.2.0\n",
      "pywinpty                     2.0.6\n",
      "pyxlsb                       1.0.9\n",
      "PyYAML                       6.0\n",
      "pyzmq                        23.2.0\n",
      "qtconsole                    5.3.1\n",
      "QtPy                         2.1.0\n",
      "regex                        2022.7.25\n",
      "requests                     2.28.1\n",
      "requests-oauthlib            1.3.1\n",
      "rich                         12.5.1\n",
      "rsa                          4.9\n",
      "scikit-learn                 1.1.1\n",
      "scipy                        1.8.1\n",
      "seaborn                      0.11.2\n",
      "selenium                     4.3.0\n",
      "semver                       2.13.0\n",
      "Send2Trash                   1.8.0\n",
      "setuptools                   58.1.0\n",
      "six                          1.16.0\n",
      "sklearn                      0.0\n",
      "smmap                        5.0.0\n",
      "sniffio                      1.2.0\n",
      "sortedcontainers             2.4.0\n",
      "soupsieve                    2.3.2.post1\n",
      "stack-data                   0.3.0\n",
      "streamlit                    1.11.0\n",
      "streamlit-metrics            0.1.0\n",
      "tangled-up-in-unicode        0.2.0\n",
      "tenacity                     8.0.1\n",
      "tensorboard                  2.9.1\n",
      "tensorboard-data-server      0.6.1\n",
      "tensorboard-plugin-wit       1.8.1\n",
      "tensorflow                   2.9.1\n",
      "tensorflow-estimator         2.9.0\n",
      "tensorflow-io-gcs-filesystem 0.26.0\n",
      "termcolor                    1.1.0\n",
      "terminado                    0.15.0\n",
      "threadpoolctl                3.1.0\n",
      "tinycss2                     1.1.1\n",
      "toml                         0.10.2\n",
      "toolz                        0.12.0\n",
      "tornado                      6.2\n",
      "tqdm                         4.64.0\n",
      "traitlets                    5.3.0\n",
      "trio                         0.21.0\n",
      "trio-websocket               0.9.2\n",
      "typing_extensions            4.3.0\n",
      "tzdata                       2022.1\n",
      "tzlocal                      4.2\n",
      "urllib3                      1.26.10\n",
      "validators                   0.20.0\n",
      "vega                         3.6.0\n",
      "vega-datasets                0.9.0\n",
      "visions                      0.7.4\n",
      "watchdog                     2.1.9\n",
      "wcwidth                      0.2.5\n",
      "webdriver-manager            3.8.2\n",
      "webdrivermanager             0.10.0\n",
      "webencodings                 0.5.1\n",
      "Werkzeug                     2.2.1\n",
      "wheel                        0.37.1\n",
      "widgetsnbextension           3.6.1\n",
      "wrapt                        1.14.1\n",
      "wsproto                      1.1.0\n",
      "xlrd                         2.0.1\n",
      "XlsxWriter                   3.0.3\n",
      "zipp                         3.8.1\n"
     ]
    },
    {
     "name": "stderr",
     "output_type": "stream",
     "text": [
      "WARNING: Ignoring invalid distribution -treamlit (c:\\users\\ainet\\appdata\\local\\programs\\python\\python310\\lib\\site-packages)\n",
      "WARNING: Ignoring invalid distribution -treamlit (c:\\users\\ainet\\appdata\\local\\programs\\python\\python310\\lib\\site-packages)\n",
      "WARNING: Ignoring invalid distribution -treamlit (c:\\users\\ainet\\appdata\\local\\programs\\python\\python310\\lib\\site-packages)\n",
      "WARNING: Ignoring invalid distribution -treamlit (c:\\users\\ainet\\appdata\\local\\programs\\python\\python310\\lib\\site-packages)\n"
     ]
    }
   ],
   "source": [
    "!pip list"
   ]
  },
  {
   "cell_type": "code",
   "execution_count": 2,
   "id": "c9706276",
   "metadata": {},
   "outputs": [],
   "source": [
    "import cv2"
   ]
  },
  {
   "cell_type": "markdown",
   "id": "61ca21a8",
   "metadata": {},
   "source": [
    "## Test Samples\n",
    "\n",
    "[samples link]('https://opencv.org/releases/')"
   ]
  },
  {
   "cell_type": "code",
   "execution_count": 5,
   "id": "2c1503ff",
   "metadata": {},
   "outputs": [
    {
     "name": "stdout",
     "output_type": "stream",
     "text": [
      " This is a sample for histogram plotting for RGB images and grayscale images for better understanding of colour distribution\n",
      "\n",
      "Benefit : Learn how to draw histogram of images\n",
      "          Get familier with cv.calcHist, cv.equalizeHist,cv.normalize and some drawing functions\n",
      "\n",
      "Level : Beginner or Intermediate\n",
      "\n",
      "Functions : 1) hist_curve : returns histogram of an image drawn as curves\n",
      "            2) hist_lines : return histogram of an image drawn as bins ( only for grayscale images )\n",
      "\n",
      "Usage : python hist.py <image_file>\n",
      "\n",
      "Abid Rahman 3/14/12 debug Gary Bradski\n",
      "\n",
      "usage : python hist.py <image_file>\n",
      " Histogram plotting \n",
      "\n",
      "    Keymap :\n",
      "\n",
      "    a - show histogram for color image in curve mode \n",
      "\n",
      "    b - show histogram in bin mode \n",
      "\n",
      "    c - show equalized histogram (always in bin mode) \n",
      "\n",
      "    d - show histogram for gray image in curve mode \n",
      "\n",
      "    e - show histogram for a normalized image in curve mode \n",
      "\n",
      "    Esc - exit \n",
      "\n",
      "    \n",
      "a\n",
      "b\n",
      "hist_lines applicable only for grayscale images\n",
      "b\n",
      "hist_lines applicable only for grayscale images\n",
      "c\n",
      "d\n",
      "e\n",
      "ESC\n",
      "Done\n"
     ]
    },
    {
     "name": "stderr",
     "output_type": "stream",
     "text": [
      "[ WARN:0@0.023] global D:\\a\\opencv-python\\opencv-python\\opencv\\modules\\core\\src\\utils\\samples.cpp (61) cv::samples::findFile cv::samples::findFile('lena.jpg') => 'C:\\Users\\ainet\\OneDrive\\Programs\\Video for ML\\opencv-4.6.0\\opencv-4.6.0\\samples\\python/../..\\samples/data\\lena.jpg'\n"
     ]
    }
   ],
   "source": [
    "# Histogram sample\n",
    "!cd opencv-4.6.0/opencv-4.6.0/samples/python & python hist.py"
   ]
  },
  {
   "cell_type": "code",
   "execution_count": 6,
   "id": "2dc1ec22",
   "metadata": {},
   "outputs": [
    {
     "name": "stdout",
     "output_type": "stream",
     "text": [
      "\n",
      "example to show optical flow\n",
      "\n",
      "USAGE: opt_flow.py [<video_source>]\n",
      "\n",
      "Keys:\n",
      " 1 - toggle HSV flow visualization\n",
      " 2 - toggle glitch\n",
      "\n",
      "Keys:\n",
      "    ESC    - exit\n",
      "\n",
      "Done\n"
     ]
    }
   ],
   "source": [
    "# Optical flow sample\n",
    "!cd opencv-4.6.0/opencv-4.6.0/samples/python & python opt_flow.py"
   ]
  },
  {
   "cell_type": "code",
   "execution_count": 7,
   "id": "16df2fd4",
   "metadata": {},
   "outputs": [
    {
     "name": "stdout",
     "output_type": "stream",
     "text": [
      "\n",
      "example to detect upright people in images using HOG features\n",
      "\n",
      "Usage:\n",
      "    peopledetect.py <image_names>\n",
      "\n",
      "Press any key to continue, ESC to stop.\n",
      "\n",
      "C:\\Users\\ainet\\OneDrive\\Programs\\Video for ML\\opencv-4.6.0\\opencv-4.6.0\\samples\\python/../..\\samples/data\\basketball2.png  - \n",
      "2 (2) found\n",
      "Done\n"
     ]
    },
    {
     "name": "stderr",
     "output_type": "stream",
     "text": [
      "[ WARN:0@0.501] global D:\\a\\opencv-python\\opencv-python\\opencv\\modules\\core\\src\\utils\\samples.cpp (61) cv::samples::findFile cv::samples::findFile('basketball2.png') => 'C:\\Users\\ainet\\OneDrive\\Programs\\Video for ML\\opencv-4.6.0\\opencv-4.6.0\\samples\\python/../..\\samples/data\\basketball2.png'\n"
     ]
    }
   ],
   "source": [
    "# People detect sample\n",
    "!cd opencv-4.6.0/opencv-4.6.0/samples/python & python peopledetect.py"
   ]
  }
 ],
 "metadata": {
  "kernelspec": {
   "display_name": "Python 3 (ipykernel)",
   "language": "python",
   "name": "python3"
  },
  "language_info": {
   "codemirror_mode": {
    "name": "ipython",
    "version": 3
   },
   "file_extension": ".py",
   "mimetype": "text/x-python",
   "name": "python",
   "nbconvert_exporter": "python",
   "pygments_lexer": "ipython3",
   "version": "3.10.5"
  }
 },
 "nbformat": 4,
 "nbformat_minor": 5
}
